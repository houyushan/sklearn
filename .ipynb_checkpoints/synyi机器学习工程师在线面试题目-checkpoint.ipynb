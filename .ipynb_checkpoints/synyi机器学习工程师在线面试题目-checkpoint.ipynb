{
 "cells": [
  {
   "cell_type": "markdown",
   "metadata": {},
   "source": [
    "首先恭喜各位，通过第一轮的简历筛选，进入线上测试环节。\n",
    "\n",
    "通过这次线上测试，希望大家能够在限定的时间内，尽自己最大努力，完成一些数据处理和数据建模任务，展现自己对机器学习建模工作的熟悉程度。\n",
    "\n",
    "## 任务说明\n",
    "请在这个jupyter notebook中\n",
    "* 补充完成任务所需要的python代码。可以直接在code cell中编写代码；或者将代码写在.py文件中后在这个notebook中import使用\n",
    "* 利用markdown cell回答相关的问题或者解释分析思路\n",
    "\n",
    "完成后，在github上建立一个repo。将这个notebook，相关的.py文件，保存处理结果的excel文件等，push到建立的repo。将repo链接提交给面试官。\n",
    "\n",
    "## 截止时间\n",
    "任务的截止提交时间为:\n",
    "\n",
    "**2019-05-21 10:00:00 a.m**\n",
    "\n",
    "## 注意事项：\n",
    "1. 使用python3.6以上版本，如果使用```pandas```等python库，请先升级到最新版本。\n",
    "2. 请确保面试官在clone各位发布的repo后，能够跑通这个notebook中的代码。\n",
    "3. 除了实现任务所需的功能，编写的代码具有高可维护性，也是我们非常希望候选人具备的能力。（可参考Refactoring by Kent Beck and Martin Fowler一书中关于\"bad code smell\"的讨论）\n",
    "4. 这个测试的目的是检验候选人是否具备高效的完成建模相关工作的能力，不鼓励重复造轮子。建议充分利用```pandas```, ```sklearn```等已有python库完成任务。\n",
    "5. 请展现自己真实的能力，不要请人代劳。如果候选人试用期阶段表现的实际工作能力明显低于线上测试表现的能力，候选人会被认为采用非诚信手段通过线上测试，将予以坚决辞退。\n",
    "6. 职场中，Deadline是非常严肃的。无论完成度如何，请务必在截止时间前，提交自己的结果。逾期提交将不予受理。"
   ]
  },
  {
   "cell_type": "markdown",
   "metadata": {},
   "source": [
    "## 机器学习建模（任务1～任务4）\n",
    "以下任务基于虚拟的建模数据dataset.csv\n",
    "\n",
    "建模数据集构成\n",
    "* id：样本的编号\n",
    "* dataset：划分了哪些数据用于train, 那些用于test\n",
    "* label:  0或者1, 只有train数据才给出了label\n",
    "* 其实字母f开头的列为建模特征"
   ]
  },
  {
   "cell_type": "code",
   "execution_count": 128,
   "metadata": {},
   "outputs": [],
   "source": [
    "import pandas as pd\n",
    "model_data = pd.read_csv('model_data.csv')"
   ]
  },
  {
   "cell_type": "markdown",
   "metadata": {},
   "source": [
    "### 任务1\n",
    "对dataset中的建模数据进行分析，描述这个数据集的特点。\n",
    "\n",
    "例如\n",
    "* 样本量，特征量\n",
    "* 建模特征缺失率的分布\n",
    "\n",
    "候选人请追加其他认为有必要进行的分析，并配合数据可视化手段，支持自己的结论。\n",
    " "
   ]
  },
  {
   "cell_type": "code",
   "execution_count": 129,
   "metadata": {},
   "outputs": [],
   "source": [
    "# 请在这里开发其余相关代码"
   ]
  },
  {
   "cell_type": "markdown",
   "metadata": {},
   "source": [
    "### 任务2\n",
    "\n",
    "请根据train数据，使用3种指定的机器学习算法（都可以在sklearn中找到）分别训练模型。这3种算法是\n",
    "* xgboost\n",
    "* logistic regression\n",
    "* random forest\n",
    "\n",
    "要求:\n",
    "* 预测目标为label列\n",
    "* 模型优化的目标为auc_roc\n",
    "* 需要对特征进行筛选。每种算法训练的模型，最后使用的特征控制在20个以内。\n",
    "* 每种算法得到的模型，将模型在test数据集的预测结果(0~1之间的一个分值)保存在csv文件中。面试官会计算候选人模型在test数据集的auc_roc"
   ]
  },
  {
   "cell_type": "code",
   "execution_count": 130,
   "metadata": {},
   "outputs": [],
   "source": [
    "# 请在这里开发其余相关代码"
   ]
  },
  {
   "cell_type": "markdown",
   "metadata": {},
   "source": [
    "### 任务3\n",
    "\n",
    "对xgboost算法中使用的每个特征，进行可视化分析。\n",
    "\n",
    "例如：\n",
    "* 特征取值的分布\n",
    "* 特征和预测目前之间的关系\n",
    "\n",
    "请候选人追加其他认为有必要进行的分析"
   ]
  },
  {
   "cell_type": "markdown",
   "metadata": {},
   "source": [
    "### 任务4\n",
    "如果需要在产品中使用。你会推荐使用之前哪个算法得到的模型？解释为什么。"
   ]
  },
  {
   "cell_type": "markdown",
   "metadata": {},
   "source": [
    "### 任务5"
   ]
  },
  {
   "cell_type": "markdown",
   "metadata": {},
   "source": [
    "任务1～任务4体现了从得到建模数据，到完成建模实验的环节。\n",
    "\n",
    "然而，对于整个建模项目来说，以上环节只是一部分工作内容。请候选人根据自己的经验和理解，描述从接到业务部门的需求开始（假设是一个0，1分类的监督式机器学习任务），到监控模型在产品中的使用情况为止，有哪些重要的工作环节？在这些过程中，机器学习建模工程师和业务部门成员如何分工？如何合作？\n",
    "\n",
    "建议通过流程图配合必要的文字描述，表达自己的理解。\n",
    "\n",
    "\n",
    "\n"
   ]
  },
  {
   "cell_type": "markdown",
   "metadata": {},
   "source": [
    "## 数据处理"
   ]
  },
  {
   "cell_type": "markdown",
   "metadata": {},
   "source": [
    "### 任务6"
   ]
  },
  {
   "cell_type": "markdown",
   "metadata": {},
   "source": [
    "history_df中存放了每个id，在不同time，对应的A, B的数值。"
   ]
  },
  {
   "cell_type": "code",
   "execution_count": 131,
   "metadata": {},
   "outputs": [
    {
     "data": {
      "text/html": [
       "<div>\n",
       "<style scoped>\n",
       "    .dataframe tbody tr th:only-of-type {\n",
       "        vertical-align: middle;\n",
       "    }\n",
       "\n",
       "    .dataframe tbody tr th {\n",
       "        vertical-align: top;\n",
       "    }\n",
       "\n",
       "    .dataframe thead th {\n",
       "        text-align: right;\n",
       "    }\n",
       "</style>\n",
       "<table border=\"1\" class=\"dataframe\">\n",
       "  <thead>\n",
       "    <tr style=\"text-align: right;\">\n",
       "      <th></th>\n",
       "      <th>id</th>\n",
       "      <th>time</th>\n",
       "      <th>A</th>\n",
       "      <th>B</th>\n",
       "    </tr>\n",
       "  </thead>\n",
       "  <tbody>\n",
       "    <tr>\n",
       "      <th>0</th>\n",
       "      <td>1</td>\n",
       "      <td>2019-01-26 08:52:00</td>\n",
       "      <td>3.797676</td>\n",
       "      <td>8.432960</td>\n",
       "    </tr>\n",
       "    <tr>\n",
       "      <th>1</th>\n",
       "      <td>1</td>\n",
       "      <td>2019-01-29 14:59:00</td>\n",
       "      <td>NaN</td>\n",
       "      <td>4.157219</td>\n",
       "    </tr>\n",
       "    <tr>\n",
       "      <th>2</th>\n",
       "      <td>1</td>\n",
       "      <td>2019-01-13 00:01:00</td>\n",
       "      <td>6.516694</td>\n",
       "      <td>4.922487</td>\n",
       "    </tr>\n",
       "    <tr>\n",
       "      <th>3</th>\n",
       "      <td>1</td>\n",
       "      <td>2019-02-01 00:27:00</td>\n",
       "      <td>2.627256</td>\n",
       "      <td>NaN</td>\n",
       "    </tr>\n",
       "    <tr>\n",
       "      <th>4</th>\n",
       "      <td>1</td>\n",
       "      <td>2019-03-26 00:32:00</td>\n",
       "      <td>8.939391</td>\n",
       "      <td>NaN</td>\n",
       "    </tr>\n",
       "    <tr>\n",
       "      <th>5</th>\n",
       "      <td>2</td>\n",
       "      <td>2019-01-01 00:14:00</td>\n",
       "      <td>NaN</td>\n",
       "      <td>6.449302</td>\n",
       "    </tr>\n",
       "    <tr>\n",
       "      <th>6</th>\n",
       "      <td>2</td>\n",
       "      <td>2019-01-26 00:52:00</td>\n",
       "      <td>3.629338</td>\n",
       "      <td>1.529292</td>\n",
       "    </tr>\n",
       "    <tr>\n",
       "      <th>7</th>\n",
       "      <td>2</td>\n",
       "      <td>2019-02-04 00:05:00</td>\n",
       "      <td>4.299086</td>\n",
       "      <td>NaN</td>\n",
       "    </tr>\n",
       "    <tr>\n",
       "      <th>8</th>\n",
       "      <td>2</td>\n",
       "      <td>2019-02-28 00:51:00</td>\n",
       "      <td>NaN</td>\n",
       "      <td>3.140770</td>\n",
       "    </tr>\n",
       "    <tr>\n",
       "      <th>9</th>\n",
       "      <td>2</td>\n",
       "      <td>2019-03-01 00:44:00</td>\n",
       "      <td>6.353059</td>\n",
       "      <td>5.926424</td>\n",
       "    </tr>\n",
       "  </tbody>\n",
       "</table>\n",
       "</div>"
      ],
      "text/plain": [
       "   id                time         A         B\n",
       "0   1 2019-01-26 08:52:00  3.797676  8.432960\n",
       "1   1 2019-01-29 14:59:00       NaN  4.157219\n",
       "2   1 2019-01-13 00:01:00  6.516694  4.922487\n",
       "3   1 2019-02-01 00:27:00  2.627256       NaN\n",
       "4   1 2019-03-26 00:32:00  8.939391       NaN\n",
       "5   2 2019-01-01 00:14:00       NaN  6.449302\n",
       "6   2 2019-01-26 00:52:00  3.629338  1.529292\n",
       "7   2 2019-02-04 00:05:00  4.299086       NaN\n",
       "8   2 2019-02-28 00:51:00       NaN  3.140770\n",
       "9   2 2019-03-01 00:44:00  6.353059  5.926424"
      ]
     },
     "execution_count": 131,
     "metadata": {},
     "output_type": "execute_result"
    }
   ],
   "source": [
    "history_data = pd.read_csv('history_data.csv', parse_dates=['time'])\n",
    "history_data\n"
   ]
  },
  {
   "cell_type": "markdown",
   "metadata": {},
   "source": [
    "sample_df存放了一些id和obs_time的组合。"
   ]
  },
  {
   "cell_type": "code",
   "execution_count": 132,
   "metadata": {},
   "outputs": [
    {
     "data": {
      "text/html": [
       "<div>\n",
       "<style scoped>\n",
       "    .dataframe tbody tr th:only-of-type {\n",
       "        vertical-align: middle;\n",
       "    }\n",
       "\n",
       "    .dataframe tbody tr th {\n",
       "        vertical-align: top;\n",
       "    }\n",
       "\n",
       "    .dataframe thead th {\n",
       "        text-align: right;\n",
       "    }\n",
       "</style>\n",
       "<table border=\"1\" class=\"dataframe\">\n",
       "  <thead>\n",
       "    <tr style=\"text-align: right;\">\n",
       "      <th></th>\n",
       "      <th>id</th>\n",
       "      <th>obs_time</th>\n",
       "    </tr>\n",
       "  </thead>\n",
       "  <tbody>\n",
       "    <tr>\n",
       "      <th>0</th>\n",
       "      <td>1</td>\n",
       "      <td>2019/3/7 0:00</td>\n",
       "    </tr>\n",
       "    <tr>\n",
       "      <th>1</th>\n",
       "      <td>1</td>\n",
       "      <td>2019/2/1 0:00</td>\n",
       "    </tr>\n",
       "    <tr>\n",
       "      <th>2</th>\n",
       "      <td>2</td>\n",
       "      <td>2019/3/15 0:00</td>\n",
       "    </tr>\n",
       "    <tr>\n",
       "      <th>3</th>\n",
       "      <td>2</td>\n",
       "      <td>2019/2/1 0:00</td>\n",
       "    </tr>\n",
       "  </tbody>\n",
       "</table>\n",
       "</div>"
      ],
      "text/plain": [
       "   id        obs_time\n",
       "0   1   2019/3/7 0:00\n",
       "1   1   2019/2/1 0:00\n",
       "2   2  2019/3/15 0:00\n",
       "3   2   2019/2/1 0:00"
      ]
     },
     "execution_count": 132,
     "metadata": {},
     "output_type": "execute_result"
    }
   ],
   "source": [
    "sample_df = pd.read_csv('sample.csv')\n",
    "sample_df"
   ]
  },
  {
   "cell_type": "markdown",
   "metadata": {},
   "source": [
    "对sample_df中每个id和obs_time的组合，计算离obs_time过去10, 60天内， 该id对应的A, B的最大值, 非空记录数量。将结果存在不同的列中。\n",
    "\n",
    "例如:\n"
   ]
  },
  {
   "cell_type": "markdown",
   "metadata": {},
   "source": [
    "最终的结果包含的列:\n",
    "* id\n",
    "* obs_time\n",
    "* 10天内A平均值\n",
    "* 10天内A非空样本数量\n",
    "* 60天内A平均值\n",
    "* 60天内A非空样本数量\n",
    "* 10天内B平均值\n",
    "* 10天内B非空样本数量\n",
    "* 60天内B平均值\n",
    "* 60天内B非空样本数量\n",
    "\n",
    "将计算结果存为excel保存"
   ]
  },
  {
   "cell_type": "code",
   "execution_count": 133,
   "metadata": {},
   "outputs": [],
   "source": [
    "# 开发相应的代码"
   ]
  }
 ],
 "metadata": {
  "kernelspec": {
   "display_name": "Python 3",
   "language": "python",
   "name": "python3"
  },
  "language_info": {
   "codemirror_mode": {
    "name": "ipython",
    "version": 3
   },
   "file_extension": ".py",
   "mimetype": "text/x-python",
   "name": "python",
   "nbconvert_exporter": "python",
   "pygments_lexer": "ipython3",
   "version": "3.7.1"
  },
  "toc": {
   "base_numbering": 1,
   "nav_menu": {},
   "number_sections": true,
   "sideBar": true,
   "skip_h1_title": false,
   "title_cell": "Table of Contents",
   "title_sidebar": "Contents",
   "toc_cell": false,
   "toc_position": {},
   "toc_section_display": true,
   "toc_window_display": false
  }
 },
 "nbformat": 4,
 "nbformat_minor": 2
}
